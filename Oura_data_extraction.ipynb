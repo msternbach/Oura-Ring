{
 "cells": [
  {
   "cell_type": "code",
   "execution_count": 1,
   "id": "24ca9f52-84ce-4dde-affe-975abea5bfc9",
   "metadata": {},
   "outputs": [],
   "source": [
    "import requests\n",
    "import pandas as pd\n",
    "from datetime import datetime"
   ]
  },
  {
   "cell_type": "code",
   "execution_count": 2,
   "id": "ceb69053-6611-413d-a151-23f84e82b25a",
   "metadata": {},
   "outputs": [],
   "source": [
    "today = datetime.today().strftime('%Y-%m-%d')"
   ]
  },
  {
   "cell_type": "code",
   "execution_count": 3,
   "id": "67bb2cb1-e110-4a92-ac01-777a59d8dc19",
   "metadata": {},
   "outputs": [],
   "source": [
    "def data_extract(name):\n",
    "    url = f'https://api.ouraring.com/v2/usercollection/{name}' \n",
    "    params={ \n",
    "        'start_date': '2023-10-01', \n",
    "        'end_date': today\n",
    "    }\n",
    "    headers = { \n",
    "      'Authorization': 'Your API Key' \n",
    "    }\n",
    "    data = requests.request('GET', url, headers=headers, params=params) \n",
    "\n",
    "    # Checking if the request was successful\n",
    "    if data.status_code == 200:\n",
    "        # Parse response as JSON\n",
    "        data = data.json()\n",
    "        \n",
    "        # Convert the 'data' or 'sleep' (depending on the structure) into a pandas DataFrame\n",
    "        df = pd.DataFrame(data['data'])  # Modify 'data' key to match the API response structure\n",
    "        \n",
    "    else:\n",
    "        print(f\"Error: {data.status_code}, {data.text}\")\n",
    "\n",
    "    df.to_csv(f'{name}_data.csv')"
   ]
  },
  {
   "cell_type": "code",
   "execution_count": 4,
   "id": "013c19b5-7d70-49de-a5ac-fa9d5dcdc50c",
   "metadata": {},
   "outputs": [],
   "source": [
    "collection_list = ['daily_readiness', 'daily_sleep', 'daily_activity', 'sleep']\n",
    "\n",
    "for name in collection_list:\n",
    "    data_extract(name)"
   ]
  },
  {
   "cell_type": "code",
   "execution_count": null,
   "id": "41ee9b58-94d0-4c86-bf01-73584f81eb44",
   "metadata": {},
   "outputs": [],
   "source": []
  }
 ],
 "metadata": {
  "kernelspec": {
   "display_name": "Python 3 (ipykernel)",
   "language": "python",
   "name": "python3"
  },
  "language_info": {
   "codemirror_mode": {
    "name": "ipython",
    "version": 3
   },
   "file_extension": ".py",
   "mimetype": "text/x-python",
   "name": "python",
   "nbconvert_exporter": "python",
   "pygments_lexer": "ipython3",
   "version": "3.12.4"
  }
 },
 "nbformat": 4,
 "nbformat_minor": 5
}
